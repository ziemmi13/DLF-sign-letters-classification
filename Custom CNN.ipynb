{
 "cells": [
  {
   "cell_type": "code",
   "execution_count": 22,
   "metadata": {},
   "outputs": [],
   "source": [
    "import torch\n",
    "from torchvision import datasets, transforms\n",
    "from torchvision.transforms import ToTensor\n",
    "from torch.utils.data import Dataset\n",
    "import os\n",
    "import cv2\n",
    "from PIL import Image\n",
    "import matplotlib.pyplot as plt\n",
    "import random\n",
    "from torch.utils.data import random_split\n",
    "from torch.utils.data import DataLoader\n",
    "import torch.nn as nn\n",
    "import torch.optim as optim\n",
    "import torchvision.models as models\n",
    "import lightning as pl\n",
    "import torchmetrics\n",
    "import comet_ml\n",
    "from lightning.pytorch import Trainer, seed_everything\n",
    "from pytorch_lightning.callbacks import ModelCheckpoint, EarlyStopping\n",
    "from comet_ml import Experiment\n"
   ]
  },
  {
   "cell_type": "markdown",
   "metadata": {},
   "source": [
    "## CUDA SETUP"
   ]
  },
  {
   "cell_type": "code",
   "execution_count": 23,
   "metadata": {},
   "outputs": [
    {
     "name": "stdout",
     "output_type": "stream",
     "text": [
      "Using cuda device\n"
     ]
    }
   ],
   "source": [
    "def setup_device():\n",
    "    if torch.cuda.is_available():\n",
    "        device = torch.device('cuda')\n",
    "        torch.set_default_dtype(torch.float32)\n",
    "    else:\n",
    "        device = torch.device('cpu')\n",
    "        torch.set_default_dtype(torch.float32)\n",
    "    return device\n",
    "\n",
    "device = setup_device()\n",
    "print(f\"Using {device} device\")\n",
    "\n",
    "# Set random seed for reproducibility\n",
    "torch.manual_seed(42)\n",
    "torch.cuda.manual_seed_all(42)"
   ]
  },
  {
   "cell_type": "markdown",
   "metadata": {},
   "source": [
    "## DATASET"
   ]
  },
  {
   "cell_type": "code",
   "execution_count": 24,
   "metadata": {},
   "outputs": [],
   "source": [
    "transform = transforms.Compose([\n",
    "    # transforms.RandomRotation(10),\n",
    "    transforms.Resize(224),\n",
    "    transforms.ToTensor(),\n",
    "    transforms.Normalize(mean=[0.485, 0.456, 0.406], std=[0.229, 0.224, 0.225]) # Values calculated from the ImageNet dataset\n",
    "])\n",
    "\n",
    "class Dataset(Dataset):\n",
    "    def __init__(self, root_dir, dataset_type, transform=None):\n",
    "        self.root_dir = root_dir\n",
    "        self.dataset_type = dataset_type\n",
    "        self.transform = transform\n",
    "        self.classes_to_ignore = [\"del\", \"nothing\", \"space\"]\n",
    "\n",
    "        self.classes = sorted([class_name for class_name in os.listdir(self.root_dir) if class_name not in self.classes_to_ignore])\n",
    "\n",
    "\n",
    "        # self.classes if a dataset type is \"test\"\n",
    "        if self.dataset_type == \"test\":\n",
    "            test_classes = []\n",
    "            for class_ in self.classes:\n",
    "                if class_.endswith(\".jpg\"):\n",
    "                    class_name = class_.replace(\"_test.jpg\", \"\")\n",
    "                elif class_.endswith(\".png\"):\n",
    "                    class_name = class_.replace(\"_test.png\", \"\")\n",
    "                if class_name not in self.classes_to_ignore:\n",
    "                    test_classes.append(class_name)\n",
    "            self.classes = test_classes\n",
    "\n",
    "        # Maping class names to numbers \n",
    "        self.class_to_idx = {class_name: idx for idx, class_name in enumerate(self.classes) if class_name not in self.classes_to_ignore}\n",
    "\n",
    "    def __len__(self):\n",
    "        if self.dataset_type == \"train\":\n",
    "            dataset_len = sum([len(os.listdir(self.root_dir + class_)) for class_ in self.classes])\n",
    "        elif self.dataset_type == \"test\":\n",
    "            dataset_len = len(self.classes)\n",
    "        return dataset_len\n",
    "    \n",
    "    def __getitem__(self, index):\n",
    "        if index >= len(self):\n",
    "            raise IndexError(\"Index out of bounds\")\n",
    "        \n",
    "        if self.dataset_type == \"train\":\n",
    "            items_in_class = 3000 # Every class has 3000 items\n",
    "            class_ = self.classes[index // items_in_class]\n",
    "            image_path = os.path.join(self.root_dir, class_) + f\"/{class_}{index % (items_in_class)+1}.jpg\"\n",
    "            # Applying label maping \n",
    "            label = self.class_to_idx[class_]\n",
    "            \n",
    "        elif self.dataset_type == \"test\":\n",
    "            class_ = self.classes[index]\n",
    "            image_path = os.path.join(self.root_dir, class_) + f\"_test.jpg\"\n",
    "            # Applying label maping \n",
    "            label = self.class_to_idx[class_]\n",
    "\n",
    "        # Loading image with cv2\n",
    "        image = cv2.imread(image_path, cv2.IMREAD_COLOR)\n",
    "        if image is None:\n",
    "            raise FileNotFoundError(f\"Image not found: {image_path}\")\n",
    "        \n",
    "        # Converting to RGB\n",
    "        image = cv2.cvtColor(image, cv2.COLOR_BGR2RGB)\n",
    "            \n",
    "        # Transform\n",
    "        if self.transform:\n",
    "            image = self.transform(Image.fromarray(image))\n",
    "        \n",
    "        return image, label\n",
    "        "
   ]
  },
  {
   "cell_type": "code",
   "execution_count": 25,
   "metadata": {},
   "outputs": [],
   "source": [
    "# Train dataset and dataloader initialization\n",
    "train_dataset = Dataset(root_dir=\"./dataset/asl_alphabet_train/\", \n",
    "                        transform=transform,\n",
    "                        dataset_type=\"train\")"
   ]
  },
  {
   "cell_type": "code",
   "execution_count": 26,
   "metadata": {},
   "outputs": [
    {
     "name": "stdout",
     "output_type": "stream",
     "text": [
      "Dataset len:\n",
      "78000\n",
      "\n",
      "Dataset classes:\n",
      "['A', 'B', 'C', 'D', 'E', 'F', 'G', 'H', 'I', 'J', 'K', 'L', 'M', 'N', 'O', 'P', 'Q', 'R', 'S', 'T', 'U', 'V', 'W', 'X', 'Y', 'Z']\n",
      "\n",
      "Random images from dataset:\n"
     ]
    },
    {
     "data": {
      "image/png": "[encoded data removed]",
      "text/plain": [
       "<Figure size 300x300 with 1 Axes>"
      ]
     },
     "metadata": {},
     "output_type": "display_data"
    }
   ],
   "source": [
    "# Sanity check\n",
    "print(\"Dataset len:\")\n",
    "print(len(train_dataset))\n",
    "\n",
    "print(\"\\nDataset classes:\")\n",
    "print(train_dataset.classes)\n",
    "\n",
    "print(\"\\nRandom images from dataset:\")\n",
    "img, label = train_dataset[random.randint(0, len(train_dataset)-1)]\n",
    "image = img.permute(1, 2, 0).numpy()  # [C, H, W] -> [H, W, C]\n",
    "\n",
    "# Denormalizing (there was normalization in transform)\n",
    "mean = [0.485, 0.456, 0.406]\n",
    "std = [0.229, 0.224, 0.225]\n",
    "image = image * std + mean\n",
    "image = image.clip(0, 1)\n",
    "\n",
    "plt.figure(figsize=(3,3))\n",
    "plt.imshow(image)\n",
    "plt.axis(\"off\")\n",
    "plt.title(label)\n",
    "plt.show()\n"
   ]
  },
  {
   "cell_type": "code",
   "execution_count": 27,
   "metadata": {},
   "outputs": [],
   "source": [
    "# Train dataset and dataloader initialization\n",
    "test_dataset = Dataset(root_dir=\"./dataset/asl_alphabet_test/\", \n",
    "                        transform=transform,\n",
    "                        dataset_type=\"test\")"
   ]
  },
  {
   "cell_type": "code",
   "execution_count": 28,
   "metadata": {},
   "outputs": [
    {
     "name": "stdout",
     "output_type": "stream",
     "text": [
      "Dataset len:\n",
      "26\n",
      "\n",
      "Dataset classes:\n",
      "['A', 'B', 'C', 'D', 'E', 'F', 'G', 'H', 'I', 'J', 'K', 'L', 'M', 'N', 'O', 'P', 'Q', 'R', 'S', 'T', 'U', 'V', 'W', 'X', 'Y', 'Z']\n",
      "\n",
      "Random image from dataset:\n"
     ]
    },
    {
     "data": {
      "image/png": "[encoded data removed]",
      "text/plain": [
       "<Figure size 300x300 with 1 Axes>"
      ]
     },
     "metadata": {},
     "output_type": "display_data"
    }
   ],
   "source": [
    "# Sanity check\n",
    "print(\"Dataset len:\")\n",
    "print(len(test_dataset))\n",
    "\n",
    "print(\"\\nDataset classes:\")\n",
    "print(test_dataset.classes)\n",
    "\n",
    "print(\"\\nRandom image from dataset:\")\n",
    "img, label = test_dataset[random.randint(0, len(test_dataset)-1)]\n",
    "image = img.permute(1, 2, 0).numpy()  # [C, H, W] -> [H, W, C]\n",
    "\n",
    "# Denormalizing (there was normalization in transform)\n",
    "mean = [0.485, 0.456, 0.406]\n",
    "std = [0.229, 0.224, 0.225]\n",
    "image = image * std + mean\n",
    "image = image.clip(0, 1)\n",
    "\n",
    "plt.figure(figsize=(3,3))\n",
    "plt.imshow(image)\n",
    "plt.axis(\"off\")\n",
    "plt.title(label)\n",
    "plt.show()"
   ]
  },
  {
   "cell_type": "markdown",
   "metadata": {},
   "source": [
    "## SPLITING DATA INTO TRAINING AND VALIDATION DATASETS"
   ]
  },
  {
   "cell_type": "code",
   "execution_count": 29,
   "metadata": {},
   "outputs": [
    {
     "data": {
      "text/plain": [
       "(54600, 23400, True)"
      ]
     },
     "execution_count": 29,
     "metadata": {},
     "output_type": "execute_result"
    }
   ],
   "source": [
    "train_len = round(0.7 * len(train_dataset))\n",
    "val_len = len(train_dataset) - train_len\n",
    "train_len, val_len, train_len + val_len == len(train_dataset)"
   ]
  },
  {
   "cell_type": "code",
   "execution_count": 30,
   "metadata": {},
   "outputs": [],
   "source": [
    "train_dataset_, val_dataset = random_split(train_dataset, [train_len, val_len])"
   ]
  },
  {
   "cell_type": "code",
   "execution_count": 31,
   "metadata": {},
   "outputs": [
    {
     "name": "stdout",
     "output_type": "stream",
     "text": [
      "Number of training samples: 54600\n",
      "Number of validation samples: 23400\n",
      "Number of train classes: 26\n",
      "Number of val classes: 26\n",
      "Number of test samples: 26\n"
     ]
    }
   ],
   "source": [
    "# Sanity check once more\n",
    "\n",
    "print(f\"Number of training samples: {len(train_dataset_)}\")\n",
    "print(f\"Number of validation samples: {len(val_dataset)}\")\n",
    "print(f\"Number of train classes: {len(train_dataset_.dataset.classes)}\")\n",
    "print(f\"Number of val classes: {len(val_dataset.dataset.classes)}\")\n",
    "print(f\"Number of test samples: {len(test_dataset)}\") \n"
   ]
  },
  {
   "cell_type": "code",
   "execution_count": 32,
   "metadata": {},
   "outputs": [
    {
     "name": "stdout",
     "output_type": "stream",
     "text": [
      "Train dataset classes: ['A', 'B', 'C', 'D', 'E', 'F', 'G', 'H', 'I', 'J', 'K', 'L', 'M', 'N', 'O', 'P', 'Q', 'R', 'S', 'T', 'U', 'V', 'W', 'X', 'Y', 'Z']\n",
      "Validation dataset classes: ['A', 'B', 'C', 'D', 'E', 'F', 'G', 'H', 'I', 'J', 'K', 'L', 'M', 'N', 'O', 'P', 'Q', 'R', 'S', 'T', 'U', 'V', 'W', 'X', 'Y', 'Z']\n",
      "Class-to-index mapping: {'A': 0, 'B': 1, 'C': 2, 'D': 3, 'E': 4, 'F': 5, 'G': 6, 'H': 7, 'I': 8, 'J': 9, 'K': 10, 'L': 11, 'M': 12, 'N': 13, 'O': 14, 'P': 15, 'Q': 16, 'R': 17, 'S': 18, 'T': 19, 'U': 20, 'V': 21, 'W': 22, 'X': 23, 'Y': 24, 'Z': 25}\n"
     ]
    }
   ],
   "source": [
    "print(f\"Train dataset classes: {train_dataset.classes}\")\n",
    "print(f\"Validation dataset classes: {train_dataset.classes}\")\n",
    "print(f\"Class-to-index mapping: {train_dataset.class_to_idx}\")"
   ]
  },
  {
   "cell_type": "markdown",
   "metadata": {},
   "source": [
    "## DATALOADERS"
   ]
  },
  {
   "cell_type": "code",
   "execution_count": 33,
   "metadata": {},
   "outputs": [
    {
     "name": "stdout",
     "output_type": "stream",
     "text": [
      "Suggested num_workers: 24\n"
     ]
    }
   ],
   "source": [
    "import os\n",
    "num_workers = os.cpu_count()\n",
    "print(f\"Suggested num_workers: {num_workers}\")"
   ]
  },
  {
   "cell_type": "code",
   "execution_count": 34,
   "metadata": {},
   "outputs": [],
   "source": [
    "train_dataloader = DataLoader(train_dataset_,\n",
    "                              batch_size=32,\n",
    "                              shuffle=True,\n",
    "                              num_workers=0)\n",
    "\n",
    "val_dataloader = DataLoader(val_dataset,\n",
    "                            batch_size=32,\n",
    "                            shuffle=False,\n",
    "                            num_workers=0)\n",
    "\n",
    "test_dataloader = DataLoader(test_dataset, \n",
    "                             batch_size=32, \n",
    "                             shuffle=False, \n",
    "                             num_workers=0)\n"
   ]
  },
  {
   "cell_type": "code",
   "execution_count": 35,
   "metadata": {},
   "outputs": [
    {
     "name": "stdout",
     "output_type": "stream",
     "text": [
      "Number of CPUs: 24\n"
     ]
    }
   ],
   "source": [
    "import multiprocessing as mp\n",
    "print(f\"Number of CPUs: {mp.cpu_count()}\")"
   ]
  },
  {
   "cell_type": "code",
   "execution_count": 36,
   "metadata": {},
   "outputs": [],
   "source": [
    "# Sanity check\n",
    "def loader_sanity_check(loader):\n",
    "    for batch_idx, (data, labels) in enumerate(loader):\n",
    "        print(f\"Batch nr: {batch_idx}\")\n",
    "        print(f\"Batch size: {data.shape[0]}\")\n",
    "        print(f\"Data shape: {data.shape}\")\n",
    "        print(f\"Image shape: {data[0].shape}\")\n",
    "        print(f\"Classes: {labels}\")\n",
    "        print(f\"Num classes: {len(labels)}\")\n",
    "        break"
   ]
  },
  {
   "cell_type": "code",
   "execution_count": 37,
   "metadata": {},
   "outputs": [
    {
     "name": "stdout",
     "output_type": "stream",
     "text": [
      "Batch nr: 0\n",
      "Batch size: 32\n",
      "Data shape: torch.Size([32, 3, 224, 224])\n",
      "Image shape: torch.Size([3, 224, 224])\n",
      "Classes: tensor([13, 13, 12, 13, 23,  7, 24, 21,  3, 24,  6, 11, 14,  2,  6, 24, 10, 12,\n",
      "        22, 16,  4,  0, 23, 20,  4, 11, 11,  5, 12, 21,  9, 14])\n",
      "Num classes: 32\n"
     ]
    }
   ],
   "source": [
    "loader_sanity_check(train_dataloader) "
   ]
  },
  {
   "cell_type": "code",
   "execution_count": 38,
   "metadata": {},
   "outputs": [
    {
     "name": "stdout",
     "output_type": "stream",
     "text": [
      "Batch nr: 0\n",
      "Batch size: 32\n",
      "Data shape: torch.Size([32, 3, 224, 224])\n",
      "Image shape: torch.Size([3, 224, 224])\n",
      "Classes: tensor([ 4, 11, 12,  6,  7, 17, 22, 20, 11,  1,  8, 21, 17, 19,  4,  0, 14, 13,\n",
      "         7, 16,  0, 24, 19, 19, 14,  3, 19,  8, 25, 12,  5,  4])\n",
      "Num classes: 32\n"
     ]
    }
   ],
   "source": [
    "loader_sanity_check(val_dataloader) "
   ]
  },
  {
   "cell_type": "code",
   "execution_count": 39,
   "metadata": {},
   "outputs": [
    {
     "name": "stdout",
     "output_type": "stream",
     "text": [
      "Batch nr: 0\n",
      "Batch size: 26\n",
      "Data shape: torch.Size([26, 3, 224, 224])\n",
      "Image shape: torch.Size([3, 224, 224])\n",
      "Classes: tensor([ 0,  1,  2,  3,  4,  5,  6,  7,  8,  9, 10, 11, 12, 13, 14, 15, 16, 17,\n",
      "        18, 19, 20, 21, 22, 23, 24, 25])\n",
      "Num classes: 26\n"
     ]
    }
   ],
   "source": [
    "loader_sanity_check(test_dataloader)"
   ]
  },
  {
   "cell_type": "markdown",
   "metadata": {},
   "source": [
    "## CUSTOM CNN"
   ]
  },
  {
   "cell_type": "code",
   "execution_count": 40,
   "metadata": {},
   "outputs": [],
   "source": [
    "class CustomCNN(nn.Module):\n",
    "    def __init__(self, num_classes):\n",
    "        super(CustomCNN, self).__init__()\n",
    "        \n",
    "        self.model = nn.Sequential(\n",
    "            # Pierwsza warstwa splotowa\n",
    "            nn.Conv2d(in_channels=3, out_channels=16, kernel_size=3, stride=1, padding=1),\n",
    "            nn.ReLU(),\n",
    "            nn.MaxPool2d(kernel_size=2, stride=2),  # Rozmiar zmniejsza się: 224x224 -> 112x112\n",
    "            \n",
    "            # Druga warstwa splotowa\n",
    "            nn.Conv2d(in_channels=16, out_channels=32, kernel_size=3, stride=1, padding=1),\n",
    "            nn.ReLU(),\n",
    "            nn.MaxPool2d(kernel_size=2, stride=2),  # Rozmiar zmniejsza się: 112x112 -> 56x56\n",
    "            \n",
    "            # Trzecia warstwa splotowa\n",
    "            nn.Conv2d(in_channels=32, out_channels=64, kernel_size=3, stride=1, padding=1),\n",
    "            nn.ReLU(),\n",
    "            nn.MaxPool2d(kernel_size=2, stride=2),  # Rozmiar zmniejsza się: 56x56 -> 28x28\n",
    "            \n",
    "            # Czwarta warstwa splotowa\n",
    "            nn.Conv2d(in_channels=64, out_channels=128, kernel_size=3, stride=1, padding=1),\n",
    "            nn.ReLU(),\n",
    "            nn.MaxPool2d(kernel_size=2, stride=2),  # Rozmiar zmniejsza się: 28x28 -> 14x14\n",
    "            \n",
    "            # Piąta warstwa splotowa\n",
    "            nn.Conv2d(in_channels=128, out_channels=256, kernel_size=3, stride=1, padding=1),\n",
    "            nn.ReLU(),\n",
    "            nn.MaxPool2d(kernel_size=2, stride=2),  # Rozmiar zmniejsza się: 14x14 -> 7x7\n",
    "            \n",
    "            # Spłaszczenie\n",
    "            nn.Flatten(),\n",
    "            \n",
    "            # Warstwy w pełni połączone\n",
    "            nn.Linear(256 * 7 * 7, 512),  # 256 kanałów, każdy o rozmiarze 7x7\n",
    "            nn.ReLU(),\n",
    "            nn.Dropout(0.5),\n",
    "            \n",
    "            nn.Linear(512, num_classes)  # Liczba wyjściowych klas\n",
    "        )\n",
    "\n",
    "    def forward(self, x):\n",
    "        return self.model(x)\n"
   ]
  },
  {
   "cell_type": "code",
   "execution_count": 41,
   "metadata": {},
   "outputs": [
    {
     "name": "stdout",
     "output_type": "stream",
     "text": [
      "CustomCNN(\n",
      "  (model): Sequential(\n",
      "    (0): Conv2d(3, 16, kernel_size=(3, 3), stride=(1, 1), padding=(1, 1))\n",
      "    (1): ReLU()\n",
      "    (2): MaxPool2d(kernel_size=2, stride=2, padding=0, dilation=1, ceil_mode=False)\n",
      "    (3): Conv2d(16, 32, kernel_size=(3, 3), stride=(1, 1), padding=(1, 1))\n",
      "    (4): ReLU()\n",
      "    (5): MaxPool2d(kernel_size=2, stride=2, padding=0, dilation=1, ceil_mode=False)\n",
      "    (6): Conv2d(32, 64, kernel_size=(3, 3), stride=(1, 1), padding=(1, 1))\n",
      "    (7): ReLU()\n",
      "    (8): MaxPool2d(kernel_size=2, stride=2, padding=0, dilation=1, ceil_mode=False)\n",
      "    (9): Conv2d(64, 128, kernel_size=(3, 3), stride=(1, 1), padding=(1, 1))\n",
      "    (10): ReLU()\n",
      "    (11): MaxPool2d(kernel_size=2, stride=2, padding=0, dilation=1, ceil_mode=False)\n",
      "    (12): Conv2d(128, 256, kernel_size=(3, 3), stride=(1, 1), padding=(1, 1))\n",
      "    (13): ReLU()\n",
      "    (14): MaxPool2d(kernel_size=2, stride=2, padding=0, dilation=1, ceil_mode=False)\n",
      "    (15): Flatten(start_dim=1, end_dim=-1)\n",
      "    (16): Linear(in_features=12544, out_features=512, bias=True)\n",
      "    (17): ReLU()\n",
      "    (18): Dropout(p=0.5, inplace=False)\n",
      "    (19): Linear(in_features=512, out_features=26, bias=True)\n",
      "  )\n",
      ")\n"
     ]
    }
   ],
   "source": [
    "num_classes = len(train_dataset.classes)\n",
    "custom_model = CustomCNN(num_classes=num_classes)\n",
    "\n",
    "print(custom_model)\n"
   ]
  },
  {
   "cell_type": "code",
   "execution_count": 42,
   "metadata": {},
   "outputs": [
    {
     "name": "stdout",
     "output_type": "stream",
     "text": [
      "All parameters: 6828986\n",
      "Frozen parameters: 0\n",
      "Trainable parameters: 6828986\n"
     ]
    }
   ],
   "source": [
    "total_params = sum(p.numel() for p in custom_model.parameters())\n",
    "trainable_params = sum(p.numel() for p in custom_model.parameters() if p.requires_grad)\n",
    "frozen_params = sum(p.numel() for p in custom_model.parameters() if not p.requires_grad)\n",
    "\n",
    "print(f\"All parameters: {total_params}\")\n",
    "print(f\"Frozen parameters: {frozen_params}\")\n",
    "print(f\"Trainable parameters: {trainable_params}\")\n"
   ]
  },
  {
   "cell_type": "markdown",
   "metadata": {},
   "source": [
    "## COMET_ML SETUP"
   ]
  },
  {
   "cell_type": "code",
   "execution_count": 43,
   "metadata": {},
   "outputs": [
    {
     "name": "stderr",
     "output_type": "stream",
     "text": [
      "\u001b[1;38;5;214mCOMET WARNING:\u001b[0m To get all data logged automatically, import comet_ml before the following modules: torch.\n",
      "\u001b[1;38;5;214mCOMET WARNING:\u001b[0m As you are running in a Jupyter environment, you will need to call `experiment.end()` when finished to ensure all metrics and code are logged before exiting.\n",
      "\u001b[1;38;5;39mCOMET INFO:\u001b[0m Experiment is live on comet.com https://www.comet.com/ziemmi13/dlf-sign-letters-classification/54ae6442ea194e82926967333394c271\n",
      "\n"
     ]
    }
   ],
   "source": [
    "from comet_ml import Experiment\n",
    "\n",
    "# Initialize Comet.ml experiment\n",
    "experiment = Experiment(\n",
    "    api_key=os.getenv(\"COMET_API_KEY\"),\n",
    "    project_name=\"DLF-sign_letters_classification\",\n",
    ")\n",
    "\n",
    "experiment.set_name(\"Custom CNN\")"
   ]
  },
  {
   "cell_type": "markdown",
   "metadata": {},
   "source": [
    "## Define helper functions to logs gradients and weights"
   ]
  },
  {
   "cell_type": "code",
   "execution_count": 44,
   "metadata": {},
   "outputs": [],
   "source": [
    "def to_numpy(x):\n",
    "    return x.detach().numpy()\n",
    "\n",
    "\n",
    "def update_gradient_map(model, gradmap):\n",
    "    for name, layer in zip(model._modules, model.children()):\n",
    "        if \"activ\" in name:\n",
    "            continue\n",
    "\n",
    "        if not hasattr(layer, \"weight\"):\n",
    "            continue\n",
    "\n",
    "        wname = \"%s/%s.%s\" % (\"gradient\", name, \"weight\")\n",
    "        bname = \"%s/%s.%s\" % (\"gradient\", name, \"bias\")\n",
    "\n",
    "        gradmap.setdefault(wname, 0)\n",
    "        gradmap.setdefault(bname, 0)\n",
    "\n",
    "        gradmap[wname] += layer.weight.grad\n",
    "        gradmap[bname] += layer.bias.grad\n",
    "\n",
    "    return gradmap\n",
    "\n",
    "\n",
    "def log_gradients(gradmap, step):\n",
    "    for k, v in gradmap.items():\n",
    "        experiment.log_histogram_3d(to_numpy(v), name=k, step=step)\n",
    "\n",
    "\n",
    "def log_weights(model, step):\n",
    "    for name, layer in zip(model._modules, model.children()):\n",
    "        if \"activ\" in name:\n",
    "            continue\n",
    "\n",
    "        if not hasattr(layer, \"weight\"):\n",
    "            continue\n",
    "\n",
    "        wname = \"%s.%s\" % (name, \"weight\")\n",
    "        bname = \"%s.%s\" % (name, \"bias\")\n",
    "\n",
    "        experiment.log_histogram_3d(to_numpy(layer.weight), name=wname, step=step)\n",
    "        experiment.log_histogram_3d(to_numpy(layer.bias), name=bname, step=step)"
   ]
  },
  {
   "cell_type": "markdown",
   "metadata": {},
   "source": [
    "## MODEL PARAMETERS"
   ]
  },
  {
   "cell_type": "code",
   "execution_count": 45,
   "metadata": {},
   "outputs": [],
   "source": [
    "learning_rate = 0.0001\n",
    "batch_size = 32\n",
    "criterion = nn.CrossEntropyLoss()\n",
    "optimizer = optim.Adam(custom_model.parameters(), lr=learning_rate, weight_decay=1e-4) # https://paperswithcode.com/method/weight-decay\n",
    "scheduler = optim.lr_scheduler.ReduceLROnPlateau(optimizer, mode='min', factor=0.1, patience=3) # https://pytorch.org/docs/stable/optim.html#how-to-adjust-learning-rate\n",
    "num_epochs = 5\n",
    "\n",
    "hyper_params = {\"batch_size\": batch_size, \"num_epochs\": num_epochs, \"learning_rate\": learning_rate}\n",
    "experiment.log_parameters(hyper_params)"
   ]
  },
  {
   "cell_type": "code",
   "execution_count": 46,
   "metadata": {},
   "outputs": [],
   "source": [
    "def train_model(device, model, train_loader, val_loader, criterion, optimizer, num_epochs):\n",
    "    train_losses = []\n",
    "    val_losses = []\n",
    "\n",
    "    model.to(device)\n",
    "\n",
    "    print(f\"Starting Training\")\n",
    "    for epoch in range(num_epochs):\n",
    "        # Training phase\n",
    "        model.train()\n",
    "        running_loss = 0.0\n",
    "        train_correct = 0\n",
    "        train_total = 0\n",
    "\n",
    "        for batch_idx, (inputs, labels) in enumerate(train_loader):\n",
    "            inputs, labels = inputs.to(device), labels.to(device)\n",
    "\n",
    "            optimizer.zero_grad()\n",
    "            outputs = model(inputs)\n",
    "\n",
    "            loss = criterion(outputs, labels)\n",
    "            loss.backward()\n",
    "            optimizer.step()\n",
    "\n",
    "            # Accumulate batch loss (not divided by dataset size)\n",
    "            running_loss += loss.item()\n",
    "\n",
    "            _, predicted = outputs.max(1)\n",
    "            train_total += labels.size(0)\n",
    "            train_correct += predicted.eq(labels).sum().item()\n",
    "\n",
    "           # Log every 50 batches\n",
    "            if batch_idx % 100 == 0:\n",
    "                print(f'Epoch: {epoch+1}, Batch: {batch_idx}, Loss: {loss.item():.4f}')\n",
    "                experiment.log_metric(\"train_loss\", loss.item(), step=batch_idx + len(train_dataloader) * (epoch))\n",
    "\n",
    "        # Calculate epoch metrics\n",
    "        epoch_loss = running_loss / len(train_loader)  # Average loss per batch\n",
    "        train_accuracy = 100. * train_correct / train_total\n",
    "        train_losses.append(epoch_loss)\n",
    "\n",
    "        # Log epoch metrics\n",
    "        experiment.log_metric(\"epoch_train_loss\", epoch_loss, step=epoch)\n",
    "        experiment.log_metric(\"epoch_train_accuracy\", train_accuracy, step=epoch)\n",
    "\n",
    "        val_losses = []\n",
    "        # Validation phase\n",
    "        model.eval()\n",
    "        val_loss = 0.0\n",
    "        val_correct = 0\n",
    "        val_total = 0\n",
    "        \n",
    "\n",
    "        with torch.inference_mode():\n",
    "            for inputs, labels in val_loader:\n",
    "                inputs, labels = inputs.to(device), labels.to(device)\n",
    "                outputs = model(inputs)\n",
    "                loss = criterion(outputs, labels)\n",
    "\n",
    "                val_loss += loss.item()\n",
    "\n",
    "                _, predicted = outputs.max(1)\n",
    "                val_total += labels.size(0)\n",
    "                val_correct += predicted.eq(labels).sum().item()\n",
    "\n",
    "        val_epoch_loss = val_loss / len(val_loader)\n",
    "        val_accuracy = 100. * val_correct / val_total\n",
    "        val_losses.append(val_epoch_loss)\n",
    "\n",
    "        print(f'Epoch [{epoch+1}/{num_epochs}]')\n",
    "        print(f'Training Loss: {epoch_loss:.4f}, Training Accuracy: {train_accuracy:.2f}%')\n",
    "        print(f'Validation Loss: {val_epoch_loss:.4f}, Validation Accuracy: {val_accuracy:.2f}%')\n",
    "        print('-' * 60)\n",
    "\n",
    "        # Log validation metrics\n",
    "        experiment.log_metric(\"val_loss\", val_epoch_loss, step=epoch)\n",
    "        experiment.log_metric(\"val_accuracy\", val_accuracy, step=epoch)\n",
    "\n",
    "    return train_losses, val_losses"
   ]
  },
  {
   "cell_type": "code",
   "execution_count": 47,
   "metadata": {},
   "outputs": [],
   "source": [
    "# Test loop\n",
    "def test_model(device, model, test_loader, criterion):\n",
    "    model.eval()\n",
    "    test_loss = 0.0\n",
    "    correct = 0\n",
    "    total = 0\n",
    "\n",
    "    with torch.inference_mode():\n",
    "        for inputs, labels in test_loader:\n",
    "            inputs, labels = inputs.to(device), labels.to(device)\n",
    "            outputs = model(inputs)\n",
    "            loss = criterion(outputs, labels)\n",
    "\n",
    "            test_loss += loss.item()\n",
    "\n",
    "            _, predicted = outputs.max(1)\n",
    "            total += labels.size(0)\n",
    "            correct += predicted.eq(labels).sum().item()\n",
    "\n",
    "    test_loss /= len(test_loader.dataset)\n",
    "    test_accuracy = 100 * correct / total\n",
    "\n",
    "    print(f'Test Loss: {test_loss:.4f}, Test Accuracy: {test_accuracy:.2f}%')\n",
    "\n",
    "    # Log test metrics\n",
    "    experiment.log_metric(\"test_loss\", test_loss)\n",
    "    experiment.log_metric(\"test_accuracy\", test_accuracy)\n",
    "\n",
    "    return test_loss, test_accuracy"
   ]
  },
  {
   "cell_type": "markdown",
   "metadata": {},
   "source": [
    "## TRAINING"
   ]
  },
  {
   "cell_type": "code",
   "execution_count": 48,
   "metadata": {},
   "outputs": [
    {
     "name": "stdout",
     "output_type": "stream",
     "text": [
      "Starting Training\n",
      "Epoch: 1, Batch: 0, Loss: 3.2549\n",
      "Epoch: 1, Batch: 100, Loss: 3.1227\n",
      "Epoch: 1, Batch: 200, Loss: 3.0603\n",
      "Epoch: 1, Batch: 300, Loss: 2.6620\n",
      "Epoch: 1, Batch: 400, Loss: 1.6216\n",
      "Epoch: 1, Batch: 500, Loss: 1.8947\n",
      "Epoch: 1, Batch: 600, Loss: 1.6443\n",
      "Epoch: 1, Batch: 700, Loss: 1.4722\n",
      "Epoch: 1, Batch: 800, Loss: 1.5705\n",
      "Epoch: 1, Batch: 900, Loss: 0.9416\n",
      "Epoch: 1, Batch: 1000, Loss: 0.8880\n",
      "Epoch: 1, Batch: 1100, Loss: 0.8605\n",
      "Epoch: 1, Batch: 1200, Loss: 0.6758\n",
      "Epoch: 1, Batch: 1300, Loss: 0.4742\n",
      "Epoch: 1, Batch: 1400, Loss: 0.8353\n",
      "Epoch: 1, Batch: 1500, Loss: 0.6566\n",
      "Epoch: 1, Batch: 1600, Loss: 0.6920\n",
      "Epoch: 1, Batch: 1700, Loss: 0.5177\n",
      "Epoch [1/5]\n",
      "Training Loss: 1.4322, Training Accuracy: 54.99%\n",
      "Validation Loss: 0.3596, Validation Accuracy: 89.10%\n",
      "------------------------------------------------------------\n",
      "Epoch: 2, Batch: 0, Loss: 0.6079\n",
      "Epoch: 2, Batch: 100, Loss: 0.6976\n",
      "Epoch: 2, Batch: 200, Loss: 0.4275\n",
      "Epoch: 2, Batch: 300, Loss: 0.3178\n",
      "Epoch: 2, Batch: 400, Loss: 0.3846\n",
      "Epoch: 2, Batch: 500, Loss: 0.4741\n",
      "Epoch: 2, Batch: 600, Loss: 0.4396\n",
      "Epoch: 2, Batch: 700, Loss: 0.4352\n",
      "Epoch: 2, Batch: 800, Loss: 0.2309\n",
      "Epoch: 2, Batch: 900, Loss: 0.3512\n",
      "Epoch: 2, Batch: 1000, Loss: 0.4437\n",
      "Epoch: 2, Batch: 1100, Loss: 0.3232\n",
      "Epoch: 2, Batch: 1200, Loss: 0.1772\n",
      "Epoch: 2, Batch: 1300, Loss: 0.1704\n",
      "Epoch: 2, Batch: 1400, Loss: 0.1939\n",
      "Epoch: 2, Batch: 1500, Loss: 0.4637\n",
      "Epoch: 2, Batch: 1600, Loss: 0.3765\n",
      "Epoch: 2, Batch: 1700, Loss: 0.4022\n",
      "Epoch [2/5]\n",
      "Training Loss: 0.3485, Training Accuracy: 88.00%\n",
      "Validation Loss: 0.1259, Validation Accuracy: 96.13%\n",
      "------------------------------------------------------------\n",
      "Epoch: 3, Batch: 0, Loss: 0.3921\n",
      "Epoch: 3, Batch: 100, Loss: 0.2064\n",
      "Epoch: 3, Batch: 200, Loss: 0.0752\n",
      "Epoch: 3, Batch: 300, Loss: 0.3029\n",
      "Epoch: 3, Batch: 400, Loss: 0.0686\n",
      "Epoch: 3, Batch: 500, Loss: 0.0805\n",
      "Epoch: 3, Batch: 600, Loss: 0.3797\n",
      "Epoch: 3, Batch: 700, Loss: 0.2467\n",
      "Epoch: 3, Batch: 800, Loss: 0.1087\n",
      "Epoch: 3, Batch: 900, Loss: 0.1428\n",
      "Epoch: 3, Batch: 1000, Loss: 0.3309\n",
      "Epoch: 3, Batch: 1100, Loss: 0.1195\n",
      "Epoch: 3, Batch: 1200, Loss: 0.2222\n",
      "Epoch: 3, Batch: 1300, Loss: 0.1391\n",
      "Epoch: 3, Batch: 1400, Loss: 0.2769\n",
      "Epoch: 3, Batch: 1500, Loss: 0.2006\n",
      "Epoch: 3, Batch: 1600, Loss: 0.0391\n",
      "Epoch: 3, Batch: 1700, Loss: 0.0780\n",
      "Epoch [3/5]\n",
      "Training Loss: 0.1825, Training Accuracy: 93.71%\n",
      "Validation Loss: 0.0483, Validation Accuracy: 98.87%\n",
      "------------------------------------------------------------\n",
      "Epoch: 4, Batch: 0, Loss: 0.0577\n",
      "Epoch: 4, Batch: 100, Loss: 0.2904\n",
      "Epoch: 4, Batch: 200, Loss: 0.2296\n",
      "Epoch: 4, Batch: 300, Loss: 0.1308\n",
      "Epoch: 4, Batch: 400, Loss: 0.2298\n",
      "Epoch: 4, Batch: 500, Loss: 0.1909\n",
      "Epoch: 4, Batch: 600, Loss: 0.3211\n",
      "Epoch: 4, Batch: 700, Loss: 0.0339\n",
      "Epoch: 4, Batch: 800, Loss: 0.1666\n",
      "Epoch: 4, Batch: 900, Loss: 0.3521\n",
      "Epoch: 4, Batch: 1000, Loss: 0.0895\n",
      "Epoch: 4, Batch: 1100, Loss: 0.0747\n",
      "Epoch: 4, Batch: 1200, Loss: 0.0522\n",
      "Epoch: 4, Batch: 1300, Loss: 0.2115\n",
      "Epoch: 4, Batch: 1400, Loss: 0.0492\n",
      "Epoch: 4, Batch: 1500, Loss: 0.0227\n",
      "Epoch: 4, Batch: 1600, Loss: 0.3559\n",
      "Epoch: 4, Batch: 1700, Loss: 0.0335\n",
      "Epoch [4/5]\n",
      "Training Loss: 0.1203, Training Accuracy: 95.88%\n",
      "Validation Loss: 0.0399, Validation Accuracy: 98.71%\n",
      "------------------------------------------------------------\n",
      "Epoch: 5, Batch: 0, Loss: 0.1016\n",
      "Epoch: 5, Batch: 100, Loss: 0.0780\n",
      "Epoch: 5, Batch: 200, Loss: 0.0585\n",
      "Epoch: 5, Batch: 300, Loss: 0.0429\n",
      "Epoch: 5, Batch: 400, Loss: 0.1219\n",
      "Epoch: 5, Batch: 500, Loss: 0.0457\n",
      "Epoch: 5, Batch: 600, Loss: 0.0037\n",
      "Epoch: 5, Batch: 700, Loss: 0.2150\n",
      "Epoch: 5, Batch: 800, Loss: 0.0301\n",
      "Epoch: 5, Batch: 900, Loss: 0.1133\n",
      "Epoch: 5, Batch: 1000, Loss: 0.2960\n",
      "Epoch: 5, Batch: 1100, Loss: 0.0443\n",
      "Epoch: 5, Batch: 1200, Loss: 0.0108\n",
      "Epoch: 5, Batch: 1300, Loss: 0.1210\n",
      "Epoch: 5, Batch: 1400, Loss: 0.0812\n",
      "Epoch: 5, Batch: 1500, Loss: 0.0560\n",
      "Epoch: 5, Batch: 1600, Loss: 0.0362\n",
      "Epoch: 5, Batch: 1700, Loss: 0.0486\n",
      "Epoch [5/5]\n",
      "Training Loss: 0.0912, Training Accuracy: 96.95%\n",
      "Validation Loss: 0.0190, Validation Accuracy: 99.40%\n",
      "------------------------------------------------------------\n"
     ]
    }
   ],
   "source": [
    "train_losses, val_losses = train_model(device, custom_model, train_dataloader, val_dataloader, criterion, optimizer, num_epochs)"
   ]
  },
  {
   "cell_type": "code",
   "execution_count": 59,
   "metadata": {},
   "outputs": [],
   "source": [
    "# Saving model and weights\n",
    "torch.save(custom_model, \"./models/Custom_CNN_test1_model\")\n",
    "torch.save(custom_model.state_dict(), \"./models/Custom_CNN_test1_weights\")"
   ]
  },
  {
   "cell_type": "markdown",
   "metadata": {},
   "source": [
    "## Log the Model to Comet"
   ]
  },
  {
   "cell_type": "code",
   "execution_count": 50,
   "metadata": {},
   "outputs": [],
   "source": [
    "from comet_ml.integration.pytorch import log_model\n",
    "\n",
    "log_model(experiment, custom_model, \"Custom_CNN - sign letters classification\")"
   ]
  },
  {
   "cell_type": "markdown",
   "metadata": {},
   "source": [
    "## End Experiment"
   ]
  },
  {
   "cell_type": "code",
   "execution_count": 51,
   "metadata": {},
   "outputs": [
    {
     "name": "stderr",
     "output_type": "stream",
     "text": [
      "\u001b[1;38;5;39mCOMET INFO:\u001b[0m ---------------------------------------------------------------------------------------\n",
      "\u001b[1;38;5;39mCOMET INFO:\u001b[0m Comet.ml Experiment Summary\n",
      "\u001b[1;38;5;39mCOMET INFO:\u001b[0m ---------------------------------------------------------------------------------------\n",
      "\u001b[1;38;5;39mCOMET INFO:\u001b[0m   Data:\n",
      "\u001b[1;38;5;39mCOMET INFO:\u001b[0m     display_summary_level : 1\n",
      "\u001b[1;38;5;39mCOMET INFO:\u001b[0m     name                  : Custom CNN\n",
      "\u001b[1;38;5;39mCOMET INFO:\u001b[0m     url                   : https://www.comet.com/ziemmi13/dlf-sign-letters-classification/54ae6442ea194e82926967333394c271\n",
      "\u001b[1;38;5;39mCOMET INFO:\u001b[0m   Metrics [count] (min, max):\n",
      "\u001b[1;38;5;39mCOMET INFO:\u001b[0m     epoch_train_accuracy [5] : (54.98717948717949, 96.95054945054945)\n",
      "\u001b[1;38;5;39mCOMET INFO:\u001b[0m     epoch_train_loss [5]     : (0.09118821820248012, 1.4322436160086607)\n",
      "\u001b[1;38;5;39mCOMET INFO:\u001b[0m     train_loss [90]          : (0.0037275853101164103, 3.254934310913086)\n",
      "\u001b[1;38;5;39mCOMET INFO:\u001b[0m     val_accuracy [5]         : (89.1025641025641, 99.3974358974359)\n",
      "\u001b[1;38;5;39mCOMET INFO:\u001b[0m     val_loss [5]             : (0.019040703146116167, 0.3595938748104976)\n",
      "\u001b[1;38;5;39mCOMET INFO:\u001b[0m   Others:\n",
      "\u001b[1;38;5;39mCOMET INFO:\u001b[0m     Name : Custom CNN\n",
      "\u001b[1;38;5;39mCOMET INFO:\u001b[0m   Parameters:\n",
      "\u001b[1;38;5;39mCOMET INFO:\u001b[0m     batch_size    : 32\n",
      "\u001b[1;38;5;39mCOMET INFO:\u001b[0m     learning_rate : 0.0001\n",
      "\u001b[1;38;5;39mCOMET INFO:\u001b[0m     num_epochs    : 5\n",
      "\u001b[1;38;5;39mCOMET INFO:\u001b[0m   Uploads:\n",
      "\u001b[1;38;5;39mCOMET INFO:\u001b[0m     environment details      : 1\n",
      "\u001b[1;38;5;39mCOMET INFO:\u001b[0m     filename                 : 1\n",
      "\u001b[1;38;5;39mCOMET INFO:\u001b[0m     git metadata             : 1\n",
      "\u001b[1;38;5;39mCOMET INFO:\u001b[0m     git-patch (uncompressed) : 1 (3.71 MB)\n",
      "\u001b[1;38;5;39mCOMET INFO:\u001b[0m     installed packages       : 1\n",
      "\u001b[1;38;5;39mCOMET INFO:\u001b[0m     model-element            : 2 (26.06 MB)\n",
      "\u001b[1;38;5;39mCOMET INFO:\u001b[0m     notebook                 : 1\n",
      "\u001b[1;38;5;39mCOMET INFO:\u001b[0m     source_code              : 1\n",
      "\u001b[1;38;5;39mCOMET INFO:\u001b[0m \n",
      "\u001b[1;38;5;214mCOMET WARNING:\u001b[0m To get all data logged automatically, import comet_ml before the following modules: torch.\n",
      "\u001b[1;38;5;39mCOMET INFO:\u001b[0m Please wait for assets to finish uploading (timeout is 10800 seconds)\n",
      "\u001b[1;38;5;39mCOMET INFO:\u001b[0m Still uploading 1 file(s), remaining 25.52 MB/26.06 MB\n",
      "\u001b[1;38;5;39mCOMET INFO:\u001b[0m Still uploading 1 asset(s), remaining 17.79 MB/26.06 MB, Throughput 527.47 KB/s, ETA ~35s\n",
      "\u001b[1;38;5;39mCOMET INFO:\u001b[0m Still uploading 1 asset(s), remaining 9.74 MB/26.06 MB, Throughput 548.75 KB/s, ETA ~19s\n",
      "\u001b[1;38;5;39mCOMET INFO:\u001b[0m Still uploading 1 asset(s), remaining 1.71 MB/26.06 MB, Throughput 548.27 KB/s, ETA ~4s\n"
     ]
    }
   ],
   "source": [
    "experiment.end()"
   ]
  },
  {
   "cell_type": "markdown",
   "metadata": {},
   "source": [
    "## TESTING"
   ]
  },
  {
   "cell_type": "code",
   "execution_count": 52,
   "metadata": {},
   "outputs": [
    {
     "name": "stdout",
     "output_type": "stream",
     "text": [
      "Test Loss: 0.0000, Test Accuracy: 100.00%\n"
     ]
    }
   ],
   "source": [
    "test_loss, test_accuracy = test_model(device, custom_model, test_dataloader, criterion)"
   ]
  },
  {
   "cell_type": "code",
   "execution_count": 60,
   "metadata": {},
   "outputs": [
    {
     "name": "stdout",
     "output_type": "stream",
     "text": [
      "CustomCNN(\n",
      "  (model): Sequential(\n",
      "    (0): Conv2d(3, 16, kernel_size=(3, 3), stride=(1, 1), padding=(1, 1))\n",
      "    (1): ReLU()\n",
      "    (2): MaxPool2d(kernel_size=2, stride=2, padding=0, dilation=1, ceil_mode=False)\n",
      "    (3): Conv2d(16, 32, kernel_size=(3, 3), stride=(1, 1), padding=(1, 1))\n",
      "    (4): ReLU()\n",
      "    (5): MaxPool2d(kernel_size=2, stride=2, padding=0, dilation=1, ceil_mode=False)\n",
      "    (6): Conv2d(32, 64, kernel_size=(3, 3), stride=(1, 1), padding=(1, 1))\n",
      "    (7): ReLU()\n",
      "    (8): MaxPool2d(kernel_size=2, stride=2, padding=0, dilation=1, ceil_mode=False)\n",
      "    (9): Conv2d(64, 128, kernel_size=(3, 3), stride=(1, 1), padding=(1, 1))\n",
      "    (10): ReLU()\n",
      "    (11): MaxPool2d(kernel_size=2, stride=2, padding=0, dilation=1, ceil_mode=False)\n",
      "    (12): Conv2d(128, 256, kernel_size=(3, 3), stride=(1, 1), padding=(1, 1))\n",
      "    (13): ReLU()\n",
      "    (14): MaxPool2d(kernel_size=2, stride=2, padding=0, dilation=1, ceil_mode=False)\n",
      "    (15): Flatten(start_dim=1, end_dim=-1)\n",
      "    (16): Linear(in_features=12544, out_features=512, bias=True)\n",
      "    (17): ReLU()\n",
      "    (18): Dropout(p=0.5, inplace=False)\n",
      "    (19): Linear(in_features=512, out_features=26, bias=True)\n",
      "  )\n",
      ")\n"
     ]
    }
   ],
   "source": [
    "loaded_model = torch.load(f=\"./models/Custom_CNN_test1_model\", weights_only=False)\n",
    "loaded_model.to(device)\n",
    "print(loaded_model)\n"
   ]
  },
  {
   "cell_type": "code",
   "execution_count": 58,
   "metadata": {},
   "outputs": [
    {
     "name": "stdout",
     "output_type": "stream",
     "text": [
      "Predicted class: G\n"
     ]
    }
   ],
   "source": [
    "from PIL import Image\n",
    "from torchvision import transforms\n",
    "\n",
    "# Funkcja do przewidywania klasy pojedynczego obrazu\n",
    "def predict_image(image_path, model, device, class_names):\n",
    "    # Wczytanie i przetworzenie obrazu\n",
    "    transform = transforms.Compose([\n",
    "        transforms.Resize((224, 224)),  # Rozmiar wejścia dla ResNet50\n",
    "        transforms.ToTensor(),\n",
    "        transforms.Normalize(mean=[0.485, 0.456, 0.406], std=[0.229, 0.224, 0.225]),  # Normalizacja ImageNet\n",
    "    ])\n",
    "\n",
    "    image = Image.open(image_path).convert('RGB')  # Konwersja na RGB\n",
    "    image_tensor = transform(image).unsqueeze(0).to(device)  # Dodanie wymiaru wsadowego\n",
    "\n",
    "    model.to(device)\n",
    "    # Przewidywanie\n",
    "    model.eval()\n",
    "    with torch.inference_mode():\n",
    "        outputs = model(image_tensor)\n",
    "        _, predicted = outputs.max(1)\n",
    "\n",
    "    # Zwracanie nazwy klasy\n",
    "    predicted_class = class_names[predicted.item()]\n",
    "    return predicted_class\n",
    "\n",
    "# Przykład użycia\n",
    "image_path = \"./dataset/test_images/test_image#8.png\"\n",
    "class_names = train_dataset.classes  # Zakładając, że masz listę klas\n",
    "predicted_class = predict_image(image_path, custom_model, device, class_names)\n",
    "\n",
    "print(f\"Predicted class: {predicted_class}\")\n"
   ]
  }
 ],
 "metadata": {
  "kernelspec": {
   "display_name": "Python 3",
   "language": "python",
   "name": "python3"
  },
  "language_info": {
   "codemirror_mode": {
    "name": "ipython",
    "version": 3
   },
   "file_extension": ".py",
   "mimetype": "text/x-python",
   "name": "python",
   "nbconvert_exporter": "python",
   "pygments_lexer": "ipython3",
   "version": "3.11.9"
  }
 },
 "nbformat": 4,
 "nbformat_minor": 2
}
